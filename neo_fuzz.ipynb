{
 "cells": [
  {
   "cell_type": "markdown",
   "id": "14447132",
   "metadata": {},
   "source": [
    "# NeoFuzz"
   ]
  },
  {
   "cell_type": "markdown",
   "id": "f5085869",
   "metadata": {},
   "source": [
    "## About\n",
    "\n",
    "NeoFuzz is a framework for generating and evaluating fuzzing inputs for the Lua interpreter using large language models.\n",
    "\n",
    "The framework leverages GPT Neo to learn the characteristics of Lua code from large-scale datasets using Self Supervised Learning (SSL), and applies Proximal Policy Optimization (PPO) to further fine-tune the model for generating syntactically and semantically valid Lua scripts.\n",
    "\n",
    "The goal is to maximize code coverage and discover edge cases in the Lua interpreter by producing diverse and effective fuzzing inputs through reinforcement learning and language modeling."
   ]
  },
  {
   "cell_type": "markdown",
   "id": "2cd823b0",
   "metadata": {},
   "source": [
    "## Environment Setup"
   ]
  },
  {
   "cell_type": "markdown",
   "id": "fd35158f",
   "metadata": {},
   "source": [
    "1. Install system dependencies: `make install-deps`\n",
    "2. Install pip dependencies into new virtual environment: `make install-dev`\n",
    "3. Use the created venv as your Jupyter kernel."
   ]
  },
  {
   "cell_type": "code",
   "execution_count": 3,
   "id": "65879c00",
   "metadata": {},
   "outputs": [],
   "source": [
    "from src.classes.view.training_view import TrainingView\n",
    "from src.classes.controller.training_env import TrainingEnv\n",
    "from src.classes.enum.train_types import TrainType\n",
    "\n",
    "from src.classes.log.logger import Logger\n",
    "from src.classes.log.logging_env import LoggingEnv\n",
    "\n",
    "# Initialize the logger\n",
    "logger = Logger(LoggingEnv.DEV)\n",
    "\n",
    "# Initialize the training environment\n",
    "training_env = TrainingEnv()\n",
    "\n",
    "# Start the training view\n",
    "training_view = TrainingView(training_env)"
   ]
  },
  {
   "cell_type": "markdown",
   "id": "38d0335c",
   "metadata": {},
   "source": [
    "# Data Preprocessing"
   ]
  },
  {
   "cell_type": "markdown",
   "id": "a1c3a871",
   "metadata": {},
   "source": [
    "Start the proprocessing process."
   ]
  },
  {
   "cell_type": "code",
   "execution_count": null,
   "id": "32c758d0",
   "metadata": {},
   "outputs": [],
   "source": [
    "# Initialize training data\n",
    "logger.info(\"Initializing training data...\")\n",
    "if training_view.init_data():\n",
    "    logger.info(\"Training data initialized successfully.\")\n",
    "else:\n",
    "    logger.error(\"Failed to initialize training data.\")"
   ]
  },
  {
   "cell_type": "markdown",
   "id": "755e552e",
   "metadata": {},
   "source": [
    "## SSL Training\n"
   ]
  },
  {
   "cell_type": "markdown",
   "id": "0d3dbf0b",
   "metadata": {},
   "source": [
    "We start the initial SSL downstream training for generating LUA code."
   ]
  },
  {
   "cell_type": "code",
   "execution_count": 8,
   "id": "ca3bfc81",
   "metadata": {},
   "outputs": [],
   "source": [
    "phase = TrainType.SSL\n",
    "\n",
    "# start ssl training\n",
    "logger.info(f'Starting {phase.value} training...')\n",
    "\n",
    "if training_view.start_training(phase):\n",
    "    logger.info(f'{phase.value} training completed successfully.')\n",
    "else:\n",
    "    logger.error(f'Could not finish training for phase {phase.value}')"
   ]
  },
  {
   "cell_type": "markdown",
   "id": "3c3b5044",
   "metadata": {},
   "source": [
    "## Evaluate SSL Training"
   ]
  },
  {
   "cell_type": "markdown",
   "id": "5d9ae30c",
   "metadata": {},
   "source": [
    "We can now determine the baseline validity of our generated samples."
   ]
  },
  {
   "cell_type": "code",
   "execution_count": null,
   "id": "5fb5ed18",
   "metadata": {},
   "outputs": [],
   "source": [
    "from src.classes.view.train_eval_view import EvalView\n",
    "\n",
    "train_eval_view = EvalView(training_env)\n",
    "\n",
    "train_eval_view.evaluate_generations(TrainType.SSL)"
   ]
  },
  {
   "cell_type": "markdown",
   "id": "80ae2b27",
   "metadata": {},
   "source": [
    "## PPO Training - Structure"
   ]
  },
  {
   "cell_type": "markdown",
   "id": "3582e66b",
   "metadata": {},
   "source": [
    "Proceeding to the next step: PPO fine-tuning to improve semantic correctness and syntactic validity."
   ]
  },
  {
   "cell_type": "code",
   "execution_count": null,
   "id": "59ebc866",
   "metadata": {},
   "outputs": [],
   "source": [
    "phase = TrainType.PPO_STRUCTURE\n",
    "\n",
    "if training_view.start_training(phase):\n",
    "    logger.info(f'{phase.value} training completed successfully.')\n",
    "else:\n",
    "    logger.error(f'Could not finish training for phase {phase.value}')"
   ]
  },
  {
   "cell_type": "markdown",
   "id": "04c0fd5b",
   "metadata": {},
   "source": [
    "## Evaluate PPO Training"
   ]
  },
  {
   "cell_type": "markdown",
   "id": "0a059033",
   "metadata": {},
   "source": [
    "Compare generations against SSL baseline."
   ]
  },
  {
   "cell_type": "code",
   "execution_count": null,
   "id": "7d38f8c8",
   "metadata": {},
   "outputs": [],
   "source": [
    "train_eval_view.evaluate_generations(TrainType.PPO_STRUCTURE)"
   ]
  },
  {
   "cell_type": "markdown",
   "id": "28c9842c",
   "metadata": {},
   "source": [
    "## AFL Evaluation"
   ]
  },
  {
   "cell_type": "markdown",
   "id": "1fee83bc",
   "metadata": {},
   "source": [
    "Before executing the fuzzing evaluation build the docker container for evaluation."
   ]
  },
  {
   "cell_type": "code",
   "execution_count": 1,
   "id": "6205a541",
   "metadata": {},
   "outputs": [
    {
     "name": "stdout",
     "output_type": "stream",
     "text": [
      "+ docker build -t magma/gcov_afl/lua --network host --build-arg fuzzer_name=gcov_afl --build-arg target_name=lua --build-arg canaries=1 -f /home/neo/Desktop/neo_fuzz_v2/submodules/magma_neo_fuzz/docker/Dockerfile_gcov /home/neo/Desktop/neo_fuzz_v2/submodules/magma_neo_fuzz\n",
      "DEPRECATED: The legacy builder is deprecated and will be removed in a future release.\n",
      "            Install the buildx component to build images with BuildKit:\n",
      "            https://docs.docker.com/go/buildx/\n",
      "\n",
      "Sending build context to Docker daemon  119.7MB\n",
      "Step 1/79 : FROM ubuntu:18.04\n",
      " ---> f9a80a55f492\n",
      "Step 2/79 : RUN apt-get update && apt-get install -y sudo\n",
      " ---> Using cache\n",
      " ---> 197d14817c86\n",
      "Step 3/79 : ARG magma_root=./\n",
      " ---> Using cache\n",
      " ---> 65aee3a8a01c\n",
      "Step 4/79 : ENV MAGMA_R /magma\n",
      " ---> Using cache\n",
      " ---> b7560b0b1b90\n",
      "Step 5/79 : ENV OUT\t\t/magma_out\n",
      " ---> Using cache\n",
      " ---> 3b37111728e8\n",
      "Step 6/79 : ENV SHARED \t/magma_shared\n",
      " ---> Using cache\n",
      " ---> feb7adde0b11\n",
      "Step 7/79 : ENV CC  /usr/bin/gcc\n",
      " ---> Using cache\n",
      " ---> a54db46c746c\n",
      "Step 8/79 : ENV CXX /usr/bin/g++\n",
      " ---> Using cache\n",
      " ---> cc6203f81e2d\n",
      "Step 9/79 : ENV LD /usr/bin/ld\n",
      " ---> Using cache\n",
      " ---> 3e15de0a0160\n",
      "Step 10/79 : ENV AR /usr/bin/ar\n",
      " ---> Using cache\n",
      " ---> a8a96beb48cb\n",
      "Step 11/79 : ENV AS /usr/bin/as\n",
      " ---> Using cache\n",
      " ---> 7855acba5636\n",
      "Step 12/79 : ENV NM /usr/bin/nm\n",
      " ---> Using cache\n",
      " ---> 8239afbfc8ae\n",
      "Step 13/79 : ENV RANLIB /usr/bin/ranlib\n",
      " ---> Using cache\n",
      " ---> 83876dee8d70\n",
      "Step 14/79 : ARG USER_ID=1000\n",
      " ---> Using cache\n",
      " ---> 1afb6de91644\n",
      "Step 15/79 : ARG GROUP_ID=1000\n",
      " ---> Using cache\n",
      " ---> 1fdad29231dc\n",
      "Step 16/79 : RUN echo \"USER_ID: ${USER_ID}\"\n",
      " ---> Using cache\n",
      " ---> 99b968a4e3d3\n",
      "Step 17/79 : RUN echo \"GROUP_ID: ${GROUP_ID}\"\n",
      " ---> Using cache\n",
      " ---> 1c35d41e42e6\n",
      "Step 18/79 : RUN mkdir -p /home && \tgroupadd -g ${GROUP_ID} magma && \tuseradd -l -u ${USER_ID} -K UMASK=0000 -d /home -g magma magma && \tchown magma:magma /home\n",
      " ---> Using cache\n",
      " ---> 955361fbe46b\n",
      "Step 19/79 : RUN\techo \"magma:amgam\" | chpasswd && usermod -a -G sudo magma\n",
      " ---> Using cache\n",
      " ---> a76810700796\n",
      "Step 20/79 : RUN echo \"magma ALL=(ALL) NOPASSWD:ALL\" > /etc/sudoers.d/magma\n",
      " ---> Using cache\n",
      " ---> 2d91ccf7182a\n",
      "Step 21/79 : RUN mkdir -p ${SHARED} ${OUT} && \tchown magma:magma ${SHARED} ${OUT} && \tchmod 744 ${SHARED} ${OUT}\n",
      " ---> Using cache\n",
      " ---> 01894299ff0a\n",
      "Step 22/79 : ARG magma_path=magma\n",
      " ---> Using cache\n",
      " ---> ef4e4a58db2c\n",
      "Step 23/79 : ENV MAGMA \t${MAGMA_R}/${magma_path}\n",
      " ---> Using cache\n",
      " ---> fe59588ea434\n",
      "Step 24/79 : USER root:root\n",
      " ---> Using cache\n",
      " ---> 4b76b26ab1d9\n",
      "Step 25/79 : RUN mkdir -p ${MAGMA} && chown magma:magma ${MAGMA}\n",
      " ---> Using cache\n",
      " ---> 7bf8605f76bc\n",
      "Step 26/79 : COPY --chown=magma:magma ${magma_root}/${magma_path} ${MAGMA}/\n",
      " ---> Using cache\n",
      " ---> 830f428df3d3\n",
      "Step 27/79 : RUN ${MAGMA}/preinstall.sh\n",
      " ---> Using cache\n",
      " ---> 81a311473f11\n",
      "Step 28/79 : USER magma:magma\n",
      " ---> Using cache\n",
      " ---> 34ab834b4bd4\n",
      "Step 29/79 : RUN ${MAGMA}/prebuild.sh\n",
      " ---> Using cache\n",
      " ---> 7db8df783dac\n",
      "Step 30/79 : ARG fuzzer_name\n",
      " ---> Using cache\n",
      " ---> ab1ac24aec40\n",
      "Step 31/79 : ARG fuzzer_path=fuzzers/${fuzzer_name}\n",
      " ---> Using cache\n",
      " ---> 01fd0bfbd36d\n",
      "Step 32/79 : ENV FUZZER \t${MAGMA_R}/${fuzzer_path}\n",
      " ---> Using cache\n",
      " ---> 6c4b40c0137a\n",
      "Step 33/79 : USER root:root\n",
      " ---> Using cache\n",
      " ---> 6ce68ba18820\n",
      "Step 34/79 : RUN mkdir -p ${FUZZER} && chown magma:magma ${FUZZER}\n",
      " ---> Using cache\n",
      " ---> b169e7b31043\n",
      "Step 35/79 : COPY --chown=magma:magma ${magma_root}/${fuzzer_path} ${FUZZER}/\n",
      " ---> Using cache\n",
      " ---> b5016318c8d1\n",
      "Step 36/79 : RUN ${FUZZER}/preinstall.sh\n",
      " ---> Using cache\n",
      " ---> b4362d735370\n",
      "Step 37/79 : USER magma:magma\n",
      " ---> Using cache\n",
      " ---> 1efc4e9f5dab\n",
      "Step 38/79 : RUN ${FUZZER}/fetch.sh\n",
      " ---> Using cache\n",
      " ---> e44ce5b4e706\n",
      "Step 39/79 : RUN ${FUZZER}/build.sh\n",
      " ---> Using cache\n",
      " ---> 27d079a7f7ef\n",
      "Step 40/79 : ARG target_name\n",
      " ---> Using cache\n",
      " ---> 8620347e9651\n",
      "Step 41/79 : ARG target_path=targets/${target_name}\n",
      " ---> Using cache\n",
      " ---> 9fff53d956f2\n",
      "Step 42/79 : ENV TARGET \t${MAGMA_R}/${target_path}\n",
      " ---> Using cache\n",
      " ---> 67ab66c65543\n",
      "Step 43/79 : USER root:root\n",
      " ---> Using cache\n",
      " ---> f150b6969396\n",
      "Step 44/79 : RUN mkdir -p ${TARGET} && chown magma:magma ${TARGET}\n",
      " ---> Using cache\n",
      " ---> 9e4e38e43e23\n",
      "Step 45/79 : COPY --chown=magma:magma ${magma_root}/${target_path} ${TARGET}/\n",
      " ---> Using cache\n",
      " ---> fe591eb76004\n",
      "Step 46/79 : RUN ${TARGET}/preinstall.sh\n",
      " ---> Using cache\n",
      " ---> e2519075507e\n",
      "Step 47/79 : USER magma:magma\n",
      " ---> Using cache\n",
      " ---> 50c858442ee4\n",
      "Step 48/79 : RUN ${TARGET}/fetch.sh\n",
      " ---> Using cache\n",
      " ---> 8448490ab72c\n",
      "Step 49/79 : RUN ${MAGMA}/apply_patches.sh\n",
      " ---> Using cache\n",
      " ---> 7775df760066\n",
      "Step 50/79 : ARG isan\n",
      " ---> Using cache\n",
      " ---> a42e3a1b7f00\n",
      "Step 51/79 : ARG harden\n",
      " ---> Using cache\n",
      " ---> b8860979a1d1\n",
      "Step 52/79 : ARG canaries\n",
      " ---> Using cache\n",
      " ---> f986355872a4\n",
      "Step 53/79 : ARG fixes\n",
      " ---> Using cache\n",
      " ---> 901930ac4d42\n",
      "Step 54/79 : ARG ISAN_FLAG=${isan:+-DMAGMA_FATAL_CANARIES}\n",
      " ---> Using cache\n",
      " ---> 25e154bff90c\n",
      "Step 55/79 : ARG HARDEN_FLAG=${harden:+-DMAGMA_HARDEN_CANARIES}\n",
      " ---> Using cache\n",
      " ---> a3f909d8720f\n",
      "Step 56/79 : ARG CANARIES_FLAG=${canaries:+-DMAGMA_ENABLE_CANARIES}\n",
      " ---> Using cache\n",
      " ---> 59eebc77ccd5\n",
      "Step 57/79 : ARG FIXES_FLAG=${fixes:+-DMAGMA_ENABLE_FIXES}\n",
      " ---> Using cache\n",
      " ---> b114a3be7f75\n",
      "Step 58/79 : ARG BUILD_FLAGS=\"-include ${MAGMA}/src/canary.h ${CANARIES_FLAG} ${FIXES_FLAG} ${ISAN_FLAG} ${HARDEN_FLAG} -g -O0\"\n",
      " ---> Using cache\n",
      " ---> b4d398476c13\n",
      "Step 59/79 : ENV CFLAGS ${BUILD_FLAGS}\n",
      " ---> Using cache\n",
      " ---> 3d7bc29966f8\n",
      "Step 60/79 : ENV CXXFLAGS ${BUILD_FLAGS}\n",
      " ---> Using cache\n",
      " ---> 77e043b081b4\n",
      "Step 61/79 : ENV LIBS -l:magma.o -lrt\n",
      " ---> Using cache\n",
      " ---> 810d157167ff\n",
      "Step 62/79 : ENV LDFLAGS -L\"${OUT}\" -g\n",
      " ---> Using cache\n",
      " ---> 1c8d469f35b9\n",
      "Step 63/79 : USER root:root\n",
      " ---> Using cache\n",
      " ---> d17a80a7393a\n",
      "Step 64/79 : RUN apt-get update &&     apt-get install -y --no-install-recommends     gcc     lcov     afl     && apt-get clean     && rm -rf /var/lib/apt/lists/*\n",
      " ---> Using cache\n",
      " ---> 0a9e38f83790\n",
      "Step 65/79 : USER magma:magma\n",
      " ---> Using cache\n",
      " ---> 346f112f5f41\n",
      "Step 66/79 : RUN ${FUZZER}/instrument.sh\n",
      " ---> Using cache\n",
      " ---> 077d5802d44a\n",
      "Step 67/79 : ENV GCOV_DIR=\"/coverage\"\n",
      " ---> Using cache\n",
      " ---> 8e63020d8110\n",
      "Step 68/79 : ENV SCRIPT_DIR=\"/scripts\"\n",
      " ---> Using cache\n",
      " ---> 9099a3fbaf73\n",
      "Step 69/79 : ENV TEMP_DIR=\"/temp\"\n",
      " ---> Using cache\n",
      " ---> ae9fece36b28\n",
      "Step 70/79 : ENV GCOV_PREFIX=\"$OUT/afl/\"\n",
      " ---> Using cache\n",
      " ---> 6839057d74de\n",
      "Step 71/79 : ENV GCOV_PREFIX_STRIP=4\n",
      " ---> Using cache\n",
      " ---> 6d139d6a5ff9\n",
      "Step 72/79 : USER root:root\n",
      " ---> Using cache\n",
      " ---> bc18f8d09c98\n",
      "Step 73/79 : RUN mkdir -p ${GCOV_DIR} && chown magma:magma ${GCOV_DIR}\n",
      " ---> Using cache\n",
      " ---> a61dec98306e\n",
      "Step 74/79 : RUN mkdir -p ${SCRIPT_DIR} && chown magma:magma ${SCRIPT_DIR}\n",
      " ---> Using cache\n",
      " ---> 8cada808b9a5\n",
      "Step 75/79 : RUN mkdir -p ${TEMP_DIR} && chown magma:magma ${TEMP_DIR}\n",
      " ---> Using cache\n",
      " ---> eb9118391a45\n",
      "Step 76/79 : USER root:root\n",
      " ---> Using cache\n",
      " ---> 6efca93a233b\n",
      "Step 77/79 : RUN ${FUZZER}/instrument_gcov_only.sh\n",
      " ---> Using cache\n",
      " ---> c413137788a2\n",
      "Step 78/79 : USER magma:magma\n",
      " ---> Using cache\n",
      " ---> fd3500eedc67\n",
      "Step 79/79 : RUN ${FUZZER}/init.sh\n",
      " ---> Using cache\n",
      " ---> fd5a0f060f36\n",
      "Successfully built fd5a0f060f36\n",
      "Successfully tagged magma/gcov_afl/lua:latest\n",
      "+ set +x\n",
      "magma/gcov_afl/lua\n"
     ]
    }
   ],
   "source": [
    "!FUZZER=gcov_afl TARGET=lua ./submodules/magma_neo_fuzz/tools/captain/build_gcov_docker.sh"
   ]
  },
  {
   "cell_type": "markdown",
   "id": "b0f83cae",
   "metadata": {},
   "source": [
    "**Note: Make sure to setup crash handling for AFL++**\n",
    "\n",
    "To do so run the following command in a root shell: `echo core > /proc/sys/kernel/core_pattern`"
   ]
  },
  {
   "cell_type": "code",
   "execution_count": 4,
   "id": "7c736b58",
   "metadata": {},
   "outputs": [],
   "source": [
    "from src.classes.view.afl_eval_view import AflEvalView\n",
    "\n",
    "afl_eval_view = AflEvalView(training_env)"
   ]
  },
  {
   "cell_type": "code",
   "execution_count": null,
   "id": "6e51a786",
   "metadata": {},
   "outputs": [],
   "source": [
    "afl_eval_view.start_afl_eval_process(time_limit='5m')"
   ]
  },
  {
   "cell_type": "markdown",
   "id": "b8701c7d",
   "metadata": {},
   "source": [
    "## GPT Neo Evaluation"
   ]
  },
  {
   "cell_type": "code",
   "execution_count": null,
   "id": "8731a22c",
   "metadata": {},
   "outputs": [],
   "source": [
    "afl_eval_view.start_model_eval_process(t_limit='1m', t_type=TrainType.PPO_STRUCTURE)"
   ]
  }
 ],
 "metadata": {
  "kernelspec": {
   "display_name": ".venv",
   "language": "python",
   "name": "python3"
  },
  "language_info": {
   "codemirror_mode": {
    "name": "ipython",
    "version": 3
   },
   "file_extension": ".py",
   "mimetype": "text/x-python",
   "name": "python",
   "nbconvert_exporter": "python",
   "pygments_lexer": "ipython3",
   "version": "3.10.12"
  }
 },
 "nbformat": 4,
 "nbformat_minor": 5
}
