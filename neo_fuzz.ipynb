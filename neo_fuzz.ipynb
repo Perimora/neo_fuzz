{
 "cells": [
  {
   "cell_type": "markdown",
   "id": "14447132",
   "metadata": {},
   "source": [
    "# NeoFuzz"
   ]
  },
  {
   "cell_type": "markdown",
   "id": "f5085869",
   "metadata": {},
   "source": [
    "## About\n",
    "\n",
    "NeoFuzz is a framework for generating and evaluating fuzzing inputs for the Lua interpreter using large language models.\n",
    "\n",
    "The framework leverages GPT Neo to learn the characteristics of Lua code from large-scale datasets using Self Supervised Learning (SSL), and applies Proximal Policy Optimization (PPO) to further fine-tune the model for generating syntactically and semantically valid Lua scripts.\n",
    "\n",
    "The goal is to maximize code coverage and discover edge cases in the Lua interpreter by producing diverse and effective fuzzing inputs through reinforcement learning and language modeling."
   ]
  },
  {
   "cell_type": "markdown",
   "id": "2cd823b0",
   "metadata": {},
   "source": [
    "## Environment Setup"
   ]
  },
  {
   "cell_type": "markdown",
   "id": "fd35158f",
   "metadata": {},
   "source": [
    "1. Install system dependencies: `make install-deps`\n",
    "2. Install pip dependencies into new virtual environment: `make install-dev`\n",
    "3. Use the created venv as your Jupyter kernel."
   ]
  },
  {
   "cell_type": "code",
   "execution_count": 3,
   "id": "65879c00",
   "metadata": {},
   "outputs": [],
   "source": [
    "from src.classes.view.training_view import TrainingView\n",
    "from src.classes.controller.training_env import TrainingEnv\n",
    "from src.classes.enum.train_types import TrainType\n",
    "\n",
    "from src.classes.log.logger import Logger\n",
    "from src.classes.log.logging_env import LoggingEnv\n",
    "\n",
    "# Initialize the logger\n",
    "logger = Logger(LoggingEnv.DEV)\n",
    "\n",
    "# Initialize the training environment\n",
    "training_env = TrainingEnv()\n",
    "\n",
    "# Start the training view\n",
    "training_view = TrainingView(training_env)"
   ]
  },
  {
   "cell_type": "markdown",
   "id": "38d0335c",
   "metadata": {},
   "source": [
    "# Data Preprocessing"
   ]
  },
  {
   "cell_type": "markdown",
   "id": "a1c3a871",
   "metadata": {},
   "source": [
    "Start the proprocessing process."
   ]
  },
  {
   "cell_type": "code",
   "execution_count": null,
   "id": "32c758d0",
   "metadata": {},
   "outputs": [],
   "source": [
    "# Initialize training data\n",
    "logger.info(\"Initializing training data...\")\n",
    "if training_view.init_data():\n",
    "    logger.info(\"Training data initialized successfully.\")\n",
    "else:\n",
    "    logger.error(\"Failed to initialize training data.\")"
   ]
  },
  {
   "cell_type": "markdown",
   "id": "755e552e",
   "metadata": {},
   "source": [
    "## SSL Training\n"
   ]
  },
  {
   "cell_type": "markdown",
   "id": "0d3dbf0b",
   "metadata": {},
   "source": [
    "We start the initial SSL downstream training for generating LUA code."
   ]
  },
  {
   "cell_type": "code",
   "execution_count": 8,
   "id": "ca3bfc81",
   "metadata": {},
   "outputs": [],
   "source": [
    "phase = TrainType.SSL\n",
    "\n",
    "# start ssl training\n",
    "logger.info(f'Starting {phase.value} training...')\n",
    "\n",
    "if training_view.start_training(phase):\n",
    "    logger.info(f'{phase.value} training completed successfully.')\n",
    "else:\n",
    "    logger.error(f'Could not finish training for phase {phase.value}')"
   ]
  },
  {
   "cell_type": "markdown",
   "id": "3c3b5044",
   "metadata": {},
   "source": [
    "## Evaluate SSL Training"
   ]
  },
  {
   "cell_type": "markdown",
   "id": "5d9ae30c",
   "metadata": {},
   "source": [
    "We can now determine the baseline validity of our generated samples."
   ]
  },
  {
   "cell_type": "code",
   "execution_count": null,
   "id": "9a2ab981",
   "metadata": {},
   "outputs": [],
   "source": [
    "from src.classes.view.train_eval_view import EvalView\n",
    "\n",
    "train_eval_view = EvalView(training_env)"
   ]
  },
  {
   "cell_type": "code",
   "execution_count": null,
   "id": "5fb5ed18",
   "metadata": {},
   "outputs": [],
   "source": [
    "train_eval_view.evaluate_generations(TrainType.SSL)"
   ]
  },
  {
   "cell_type": "markdown",
   "id": "80ae2b27",
   "metadata": {},
   "source": [
    "## PPO Training - Structure"
   ]
  },
  {
   "cell_type": "markdown",
   "id": "3582e66b",
   "metadata": {},
   "source": [
    "Proceeding to the next step: PPO fine-tuning to improve semantic correctness and syntactic validity."
   ]
  },
  {
   "cell_type": "code",
   "execution_count": null,
   "id": "59ebc866",
   "metadata": {},
   "outputs": [],
   "source": [
    "phase = TrainType.PPO_STRUCTURE\n",
    "\n",
    "if training_view.start_training(phase):\n",
    "    logger.info(f'{phase.value} training completed successfully.')\n",
    "else:\n",
    "    logger.error(f'Could not finish training for phase {phase.value}')"
   ]
  },
  {
   "cell_type": "markdown",
   "id": "04c0fd5b",
   "metadata": {},
   "source": [
    "## Evaluate PPO Training"
   ]
  },
  {
   "cell_type": "markdown",
   "id": "0a059033",
   "metadata": {},
   "source": [
    "Compare generations against SSL baseline."
   ]
  },
  {
   "cell_type": "code",
   "execution_count": null,
   "id": "7d38f8c8",
   "metadata": {},
   "outputs": [],
   "source": [
    "train_eval_view.evaluate_generations(TrainType.PPO_STRUCTURE)"
   ]
  },
  {
   "cell_type": "markdown",
   "id": "28c9842c",
   "metadata": {},
   "source": [
    "## AFL Evaluation"
   ]
  },
  {
   "cell_type": "markdown",
   "id": "1fee83bc",
   "metadata": {},
   "source": [
    "Before executing the fuzzing evaluation build the docker container for evaluation."
   ]
  },
  {
   "cell_type": "code",
   "execution_count": null,
   "id": "6205a541",
   "metadata": {},
   "outputs": [],
   "source": [
    "!FUZZER=gcov_afl TARGET=lua ./submodules/magma_neo_fuzz/tools/captain/build_gcov_docker.sh"
   ]
  },
  {
   "cell_type": "markdown",
   "id": "b0f83cae",
   "metadata": {},
   "source": [
    "**Note: Make sure to setup crash handling for AFL++**\n",
    "\n",
    "To do so run the following command in a root shell: `echo core > /proc/sys/kernel/core_pattern`"
   ]
  },
  {
   "cell_type": "code",
   "execution_count": 4,
   "id": "7c736b58",
   "metadata": {},
   "outputs": [],
   "source": [
    "from src.classes.view.afl_eval_view import AflEvalView\n",
    "\n",
    "afl_eval_view = AflEvalView(training_env)"
   ]
  },
  {
   "cell_type": "code",
   "execution_count": null,
   "id": "6e51a786",
   "metadata": {},
   "outputs": [],
   "source": [
    "afl_eval_view.start_afl_eval_process(time_limit='5m')"
   ]
  },
  {
   "cell_type": "markdown",
   "id": "b8701c7d",
   "metadata": {},
   "source": [
    "## GPT Neo Evaluation"
   ]
  },
  {
   "cell_type": "code",
   "execution_count": null,
   "id": "8731a22c",
   "metadata": {},
   "outputs": [],
   "source": [
    "afl_eval_view.start_model_eval_process(t_limit='1m', t_type=TrainType.PPO_STRUCTURE)"
   ]
  }
 ],
 "metadata": {
  "kernelspec": {
   "display_name": ".venv",
   "language": "python",
   "name": "python3"
  },
  "language_info": {
   "codemirror_mode": {
    "name": "ipython",
    "version": 3
   },
   "file_extension": ".py",
   "mimetype": "text/x-python",
   "name": "python",
   "nbconvert_exporter": "python",
   "pygments_lexer": "ipython3",
   "version": "3.10.12"
  }
 },
 "nbformat": 4,
 "nbformat_minor": 5
}
